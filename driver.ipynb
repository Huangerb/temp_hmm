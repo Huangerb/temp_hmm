{
 "cells": [
  {
   "cell_type": "code",
   "execution_count": 1,
   "metadata": {},
   "outputs": [],
   "source": [
    "from HMM import *\n",
    "from DataSet import *\n",
    "from RunViterbi import *\n",
    "from TrainHMM import *"
   ]
  },
  {
   "cell_type": "code",
   "execution_count": 2,
   "metadata": {},
   "outputs": [
    {
     "name": "stdout",
     "output_type": "stream",
     "text": [
      "/Users/averyzhou/Desktop/RobotPGM/HMM.py:8: RuntimeWarning: divide by zero encountered in log\n",
      "  return np.exp(np.log(prob_1) + np.log(prob_2))\n",
      "Traceback (most recent call last):\n",
      "  File \"/Users/averyzhou/Desktop/RobotPGM/TrainHMM.py\", line 18, in <module>\n",
      "    hmm.train(dataset.observations)\n",
      "  File \"/Users/averyzhou/Desktop/RobotPGM/HMM.py\", line 148, in train\n",
      "    new_start_probs += self._train_start_probs(observation)\n",
      "  File \"/Users/averyzhou/Desktop/RobotPGM/HMM.py\", line 406, in _train_start_probs\n",
      "    delta = self._alpha_backward(observations)\n",
      "  File \"/Users/averyzhou/Desktop/RobotPGM/HMM.py\", line 343, in _alpha_backward\n",
      "    alpha, c_scale = self._alpha(observations)\n",
      "  File \"/Users/averyzhou/Desktop/RobotPGM/HMM.py\", line 293, in _alpha\n",
      "    alpha[:, 0] = log_sum_exp(\n",
      "ValueError: could not broadcast input array from shape (4,16) into shape (16,1)\n"
     ]
    }
   ],
   "source": [
    "! python3 TrainHMM.py ./data/randomwalk.train.txt"
   ]
  },
  {
   "cell_type": "code",
   "execution_count": null,
   "metadata": {},
   "outputs": [],
   "source": []
  },
  {
   "cell_type": "code",
   "execution_count": null,
   "metadata": {},
   "outputs": [],
   "source": []
  }
 ],
 "metadata": {
  "kernelspec": {
   "display_name": "base",
   "language": "python",
   "name": "python3"
  },
  "language_info": {
   "codemirror_mode": {
    "name": "ipython",
    "version": 3
   },
   "file_extension": ".py",
   "mimetype": "text/x-python",
   "name": "python",
   "nbconvert_exporter": "python",
   "pygments_lexer": "ipython3",
   "version": "3.10.9"
  },
  "orig_nbformat": 4
 },
 "nbformat": 4,
 "nbformat_minor": 2
}
